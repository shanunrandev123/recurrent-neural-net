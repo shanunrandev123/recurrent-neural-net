{
 "cells": [
  {
   "cell_type": "code",
   "execution_count": 1,
   "metadata": {},
   "outputs": [],
   "source": [
    "import pandas as pd\n",
    "import numpy as np\n",
    "import matplotlib.pyplot as plt\n",
    "import statsmodels\n",
    "from statsmodels.tsa.seasonal import seasonal_decompose\n",
    "from keras.preprocessing.sequence import TimeseriesGenerator\n",
    "from sklearn.preprocessing import MinMaxScaler\n",
    "from keras.models import Sequential\n",
    "from keras.layers import Dense\n",
    "from keras.layers import LSTM\n"
   ]
  },
  {
   "cell_type": "code",
   "execution_count": 6,
   "metadata": {},
   "outputs": [
    {
     "data": {
      "text/html": [
       "<div>\n",
       "<style scoped>\n",
       "    .dataframe tbody tr th:only-of-type {\n",
       "        vertical-align: middle;\n",
       "    }\n",
       "\n",
       "    .dataframe tbody tr th {\n",
       "        vertical-align: top;\n",
       "    }\n",
       "\n",
       "    .dataframe thead th {\n",
       "        text-align: right;\n",
       "    }\n",
       "</style>\n",
       "<table border=\"1\" class=\"dataframe\">\n",
       "  <thead>\n",
       "    <tr style=\"text-align: right;\">\n",
       "      <th></th>\n",
       "      <th>S4248SM144NCEN</th>\n",
       "    </tr>\n",
       "    <tr>\n",
       "      <th>DATE</th>\n",
       "      <th></th>\n",
       "    </tr>\n",
       "  </thead>\n",
       "  <tbody>\n",
       "    <tr>\n",
       "      <th>1992-01-01</th>\n",
       "      <td>3459</td>\n",
       "    </tr>\n",
       "    <tr>\n",
       "      <th>1992-02-01</th>\n",
       "      <td>3458</td>\n",
       "    </tr>\n",
       "    <tr>\n",
       "      <th>1992-03-01</th>\n",
       "      <td>4002</td>\n",
       "    </tr>\n",
       "    <tr>\n",
       "      <th>1992-04-01</th>\n",
       "      <td>4564</td>\n",
       "    </tr>\n",
       "    <tr>\n",
       "      <th>1992-05-01</th>\n",
       "      <td>4221</td>\n",
       "    </tr>\n",
       "  </tbody>\n",
       "</table>\n",
       "</div>"
      ],
      "text/plain": [
       "            S4248SM144NCEN\n",
       "DATE                      \n",
       "1992-01-01            3459\n",
       "1992-02-01            3458\n",
       "1992-03-01            4002\n",
       "1992-04-01            4564\n",
       "1992-05-01            4221"
      ]
     },
     "execution_count": 6,
     "metadata": {},
     "output_type": "execute_result"
    }
   ],
   "source": [
    "df = pd.read_csv('Alcohol_Sales.csv',index_col = 'DATE',parse_dates = True)\n",
    "df.head()"
   ]
  },
  {
   "cell_type": "code",
   "execution_count": 7,
   "metadata": {},
   "outputs": [
    {
     "data": {
      "text/html": [
       "<div>\n",
       "<style scoped>\n",
       "    .dataframe tbody tr th:only-of-type {\n",
       "        vertical-align: middle;\n",
       "    }\n",
       "\n",
       "    .dataframe tbody tr th {\n",
       "        vertical-align: top;\n",
       "    }\n",
       "\n",
       "    .dataframe thead th {\n",
       "        text-align: right;\n",
       "    }\n",
       "</style>\n",
       "<table border=\"1\" class=\"dataframe\">\n",
       "  <thead>\n",
       "    <tr style=\"text-align: right;\">\n",
       "      <th></th>\n",
       "      <th>S4248SM144NCEN</th>\n",
       "    </tr>\n",
       "    <tr>\n",
       "      <th>DATE</th>\n",
       "      <th></th>\n",
       "    </tr>\n",
       "  </thead>\n",
       "  <tbody>\n",
       "    <tr>\n",
       "      <th>2018-09-01</th>\n",
       "      <td>12396</td>\n",
       "    </tr>\n",
       "    <tr>\n",
       "      <th>2018-10-01</th>\n",
       "      <td>13914</td>\n",
       "    </tr>\n",
       "    <tr>\n",
       "      <th>2018-11-01</th>\n",
       "      <td>14174</td>\n",
       "    </tr>\n",
       "    <tr>\n",
       "      <th>2018-12-01</th>\n",
       "      <td>15504</td>\n",
       "    </tr>\n",
       "    <tr>\n",
       "      <th>2019-01-01</th>\n",
       "      <td>10718</td>\n",
       "    </tr>\n",
       "  </tbody>\n",
       "</table>\n",
       "</div>"
      ],
      "text/plain": [
       "            S4248SM144NCEN\n",
       "DATE                      \n",
       "2018-09-01           12396\n",
       "2018-10-01           13914\n",
       "2018-11-01           14174\n",
       "2018-12-01           15504\n",
       "2019-01-01           10718"
      ]
     },
     "execution_count": 7,
     "metadata": {},
     "output_type": "execute_result"
    }
   ],
   "source": [
    "df.tail()"
   ]
  },
  {
   "cell_type": "code",
   "execution_count": 5,
   "metadata": {},
   "outputs": [
    {
     "data": {
      "text/plain": [
       "325"
      ]
     },
     "execution_count": 5,
     "metadata": {},
     "output_type": "execute_result"
    }
   ],
   "source": [
    "len(df)"
   ]
  },
  {
   "cell_type": "code",
   "execution_count": 8,
   "metadata": {},
   "outputs": [],
   "source": [
    "df.index.freq = 'MS'"
   ]
  },
  {
   "cell_type": "code",
   "execution_count": 10,
   "metadata": {},
   "outputs": [
    {
     "data": {
      "text/plain": [
       "<AxesSubplot:xlabel='DATE'>"
      ]
     },
     "execution_count": 10,
     "metadata": {},
     "output_type": "execute_result"
    },
    {
     "data": {
      "image/png": "[encoded data removed]",
      "text/plain": [
       "<Figure size 864x432 with 1 Axes>"
      ]
     },
     "metadata": {
      "needs_background": "light"
     },
     "output_type": "display_data"
    }
   ],
   "source": [
    "df.plot(figsize = (12,6))"
   ]
  },
  {
   "cell_type": "code",
   "execution_count": 13,
   "metadata": {},
   "outputs": [],
   "source": []
  },
  {
   "cell_type": "code",
   "execution_count": 14,
   "metadata": {},
   "outputs": [],
   "source": []
  },
  {
   "cell_type": "code",
   "execution_count": 15,
   "metadata": {},
   "outputs": [
    {
     "data": {
      "text/plain": [
       "Index(['S4248SM144NCEN'], dtype='object')"
      ]
     },
     "execution_count": 15,
     "metadata": {},
     "output_type": "execute_result"
    }
   ],
   "source": [
    "df.columns"
   ]
  },
  {
   "cell_type": "code",
   "execution_count": 17,
   "metadata": {},
   "outputs": [],
   "source": [
    "df.columns = ['Sales']"
   ]
  },
  {
   "cell_type": "code",
   "execution_count": 18,
   "metadata": {},
   "outputs": [
    {
     "data": {
      "text/html": [
       "<div>\n",
       "<style scoped>\n",
       "    .dataframe tbody tr th:only-of-type {\n",
       "        vertical-align: middle;\n",
       "    }\n",
       "\n",
       "    .dataframe tbody tr th {\n",
       "        vertical-align: top;\n",
       "    }\n",
       "\n",
       "    .dataframe thead th {\n",
       "        text-align: right;\n",
       "    }\n",
       "</style>\n",
       "<table border=\"1\" class=\"dataframe\">\n",
       "  <thead>\n",
       "    <tr style=\"text-align: right;\">\n",
       "      <th></th>\n",
       "      <th>Sales</th>\n",
       "    </tr>\n",
       "    <tr>\n",
       "      <th>DATE</th>\n",
       "      <th></th>\n",
       "    </tr>\n",
       "  </thead>\n",
       "  <tbody>\n",
       "    <tr>\n",
       "      <th>1992-01-01</th>\n",
       "      <td>3459</td>\n",
       "    </tr>\n",
       "    <tr>\n",
       "      <th>1992-02-01</th>\n",
       "      <td>3458</td>\n",
       "    </tr>\n",
       "    <tr>\n",
       "      <th>1992-03-01</th>\n",
       "      <td>4002</td>\n",
       "    </tr>\n",
       "    <tr>\n",
       "      <th>1992-04-01</th>\n",
       "      <td>4564</td>\n",
       "    </tr>\n",
       "    <tr>\n",
       "      <th>1992-05-01</th>\n",
       "      <td>4221</td>\n",
       "    </tr>\n",
       "  </tbody>\n",
       "</table>\n",
       "</div>"
      ],
      "text/plain": [
       "            Sales\n",
       "DATE             \n",
       "1992-01-01   3459\n",
       "1992-02-01   3458\n",
       "1992-03-01   4002\n",
       "1992-04-01   4564\n",
       "1992-05-01   4221"
      ]
     },
     "execution_count": 18,
     "metadata": {},
     "output_type": "execute_result"
    }
   ],
   "source": [
    "df.head()"
   ]
  },
  {
   "cell_type": "code",
   "execution_count": 20,
   "metadata": {},
   "outputs": [],
   "source": [
    "results = seasonal_decompose(df['Sales'])"
   ]
  },
  {
   "cell_type": "code",
   "execution_count": 22,
   "metadata": {},
   "outputs": [
    {
     "data": {
      "image/png": "[encoded data removed]",
      "text/plain": [
       "<Figure size 432x288 with 4 Axes>"
      ]
     },
     "metadata": {
      "needs_background": "light"
     },
     "output_type": "display_data"
    }
   ],
   "source": [
    "results.plot();"
   ]
  },
  {
   "cell_type": "code",
   "execution_count": 23,
   "metadata": {},
   "outputs": [
    {
     "data": {
      "text/plain": [
       "325"
      ]
     },
     "execution_count": 23,
     "metadata": {},
     "output_type": "execute_result"
    }
   ],
   "source": [
    "len(df)"
   ]
  },
  {
   "cell_type": "code",
   "execution_count": 24,
   "metadata": {},
   "outputs": [],
   "source": [
    "train = df.iloc[:313]\n",
    "test = df.iloc[313:]"
   ]
  },
  {
   "cell_type": "code",
   "execution_count": 29,
   "metadata": {},
   "outputs": [],
   "source": [
    "scaler = MinMaxScaler()"
   ]
  },
  {
   "cell_type": "code",
   "execution_count": 30,
   "metadata": {},
   "outputs": [
    {
     "data": {
      "text/plain": [
       "MinMaxScaler()"
      ]
     },
     "execution_count": 30,
     "metadata": {},
     "output_type": "execute_result"
    }
   ],
   "source": [
    "scaler.fit(train)"
   ]
  },
  {
   "cell_type": "code",
   "execution_count": 31,
   "metadata": {},
   "outputs": [],
   "source": [
    "scaled_train = scaler.transform(train)\n",
    "scaled_test = scaler.transform(test)"
   ]
  },
  {
   "cell_type": "code",
   "execution_count": 32,
   "metadata": {},
   "outputs": [],
   "source": []
  },
  {
   "cell_type": "code",
   "execution_count": 33,
   "metadata": {},
   "outputs": [
    {
     "data": {
      "text/plain": [
       "array([[0.03658432],\n",
       "       [0.03649885],\n",
       "       [0.08299855],\n",
       "       [0.13103684],\n",
       "       [0.1017181 ],\n",
       "       [0.12804513],\n",
       "       [0.12266006],\n",
       "       [0.09453799],\n",
       "       [0.09359774],\n",
       "       [0.10496624],\n",
       "       [0.10334217],\n",
       "       [0.16283443],\n",
       "       [0.        ],\n",
       "       [0.0196598 ],\n",
       "       [0.09650397],\n",
       "       [0.11505257],\n",
       "       [0.10906915],\n",
       "       [0.14231986],\n",
       "       [0.12197624],\n",
       "       [0.12189076],\n",
       "       [0.11394136],\n",
       "       [0.10300026],\n",
       "       [0.12556629],\n",
       "       [0.16608257],\n",
       "       [0.00376101],\n",
       "       [0.02957518],\n",
       "       [0.12069408],\n",
       "       [0.10513719],\n",
       "       [0.12214719],\n",
       "       [0.16702282],\n",
       "       [0.11052227],\n",
       "       [0.14428584],\n",
       "       [0.11479614],\n",
       "       [0.10402599],\n",
       "       [0.14984187],\n",
       "       [0.16582614],\n",
       "       [0.02897684],\n",
       "       [0.03872126],\n",
       "       [0.10582101],\n",
       "       [0.08231473],\n",
       "       [0.14394393],\n",
       "       [0.16608257],\n",
       "       [0.10188905],\n",
       "       [0.16830498],\n",
       "       [0.10291478],\n",
       "       [0.13018207],\n",
       "       [0.15556885],\n",
       "       [0.15343192],\n",
       "       [0.0570989 ],\n",
       "       [0.08137448],\n",
       "       [0.10522267],\n",
       "       [0.1357381 ],\n",
       "       [0.18702453],\n",
       "       [0.15428669],\n",
       "       [0.16326182],\n",
       "       [0.17360458],\n",
       "       [0.11402684],\n",
       "       [0.16933071],\n",
       "       [0.15548337],\n",
       "       [0.17659629],\n",
       "       [0.06214206],\n",
       "       [0.06786905],\n",
       "       [0.12163433],\n",
       "       [0.13710574],\n",
       "       [0.18625524],\n",
       "       [0.17317719],\n",
       "       [0.18805026],\n",
       "       [0.17121121],\n",
       "       [0.16574066],\n",
       "       [0.19753825],\n",
       "       [0.1538593 ],\n",
       "       [0.25079067],\n",
       "       [0.0653902 ],\n",
       "       [0.08445166],\n",
       "       [0.15958629],\n",
       "       [0.17599795],\n",
       "       [0.18856313],\n",
       "       [0.20651338],\n",
       "       [0.20548765],\n",
       "       [0.17745106],\n",
       "       [0.21232584],\n",
       "       [0.2181383 ],\n",
       "       [0.19788016],\n",
       "       [0.27822891],\n",
       "       [0.08556287],\n",
       "       [0.12001026],\n",
       "       [0.20924865],\n",
       "       [0.20959056],\n",
       "       [0.21848021],\n",
       "       [0.2688264 ],\n",
       "       [0.22138644],\n",
       "       [0.24429438],\n",
       "       [0.23908026],\n",
       "       [0.24087529],\n",
       "       [0.2691683 ],\n",
       "       [0.31968544],\n",
       "       [0.1035986 ],\n",
       "       [0.16420207],\n",
       "       [0.25446619],\n",
       "       [0.1984785 ],\n",
       "       [0.29096504],\n",
       "       [0.31130866],\n",
       "       [0.2226686 ],\n",
       "       [0.30763313],\n",
       "       [0.24412343],\n",
       "       [0.28130609],\n",
       "       [0.29823062],\n",
       "       [0.31173605],\n",
       "       [0.17531413],\n",
       "       [0.1867681 ],\n",
       "       [0.24463629],\n",
       "       [0.24472177],\n",
       "       [0.32207881],\n",
       "       [0.31079579],\n",
       "       [0.28575092],\n",
       "       [0.32558338],\n",
       "       [0.21745448],\n",
       "       [0.30036755],\n",
       "       [0.32122404],\n",
       "       [0.3546457 ],\n",
       "       [0.17830584],\n",
       "       [0.20608599],\n",
       "       [0.28258826],\n",
       "       [0.298658  ],\n",
       "       [0.35772288],\n",
       "       [0.31883067],\n",
       "       [0.33566972],\n",
       "       [0.34524318],\n",
       "       [0.26643303],\n",
       "       [0.33276348],\n",
       "       [0.31498419],\n",
       "       [0.42260022],\n",
       "       [0.19617061],\n",
       "       [0.22036071],\n",
       "       [0.28917001],\n",
       "       [0.31712112],\n",
       "       [0.35156851],\n",
       "       [0.35062826],\n",
       "       [0.38781092],\n",
       "       [0.36199675],\n",
       "       [0.30797504],\n",
       "       [0.39276861],\n",
       "       [0.32583982],\n",
       "       [0.47089495],\n",
       "       [0.22207026],\n",
       "       [0.24506368],\n",
       "       [0.34310625],\n",
       "       [0.34729464],\n",
       "       [0.36772374],\n",
       "       [0.41772801],\n",
       "       [0.36396273],\n",
       "       [0.37310881],\n",
       "       [0.36139841],\n",
       "       [0.36216771],\n",
       "       [0.40174374],\n",
       "       [0.51517224],\n",
       "       [0.21591589],\n",
       "       [0.27404052],\n",
       "       [0.40105992],\n",
       "       [0.36165484],\n",
       "       [0.44533721],\n",
       "       [0.48944354],\n",
       "       [0.36934781],\n",
       "       [0.46713394],\n",
       "       [0.40259851],\n",
       "       [0.39994871],\n",
       "       [0.44585007],\n",
       "       [0.50183776],\n",
       "       [0.25942388],\n",
       "       [0.30421404],\n",
       "       [0.4181554 ],\n",
       "       [0.36789469],\n",
       "       [0.4967946 ],\n",
       "       [0.53816566],\n",
       "       [0.40695786],\n",
       "       [0.52354902],\n",
       "       [0.42789982],\n",
       "       [0.47944269],\n",
       "       [0.52115565],\n",
       "       [0.55679973],\n",
       "       [0.3073767 ],\n",
       "       [0.31729208],\n",
       "       [0.44140525],\n",
       "       [0.41003505],\n",
       "       [0.55893666],\n",
       "       [0.55158561],\n",
       "       [0.47670741],\n",
       "       [0.55662877],\n",
       "       [0.43525088],\n",
       "       [0.56568938],\n",
       "       [0.54355073],\n",
       "       [0.60124797],\n",
       "       [0.34720916],\n",
       "       [0.38054535],\n",
       "       [0.4559364 ],\n",
       "       [0.50123942],\n",
       "       [0.5780836 ],\n",
       "       [0.59372596],\n",
       "       [0.55748355],\n",
       "       [0.54226857],\n",
       "       [0.52944696],\n",
       "       [0.59124712],\n",
       "       [0.48952902],\n",
       "       [0.66740747],\n",
       "       [0.36199675],\n",
       "       [0.3886657 ],\n",
       "       [0.4835456 ],\n",
       "       [0.52406189],\n",
       "       [0.54175571],\n",
       "       [0.60996666],\n",
       "       [0.55355159],\n",
       "       [0.50363279],\n",
       "       [0.5334644 ],\n",
       "       [0.51662535],\n",
       "       [0.5058552 ],\n",
       "       [0.66774938],\n",
       "       [0.30147876],\n",
       "       [0.38037439],\n",
       "       [0.55081631],\n",
       "       [0.54645696],\n",
       "       [0.54021711],\n",
       "       [0.64287546],\n",
       "       [0.51679631],\n",
       "       [0.53354988],\n",
       "       [0.54611505],\n",
       "       [0.54551671],\n",
       "       [0.58423797],\n",
       "       [0.72006154],\n",
       "       [0.3307975 ],\n",
       "       [0.42593384],\n",
       "       [0.58133174],\n",
       "       [0.5342337 ],\n",
       "       [0.59287119],\n",
       "       [0.71057355],\n",
       "       [0.51927515],\n",
       "       [0.63578084],\n",
       "       [0.60295752],\n",
       "       [0.56252671],\n",
       "       [0.62372852],\n",
       "       [0.72245491],\n",
       "       [0.38080178],\n",
       "       [0.47952816],\n",
       "       [0.57081802],\n",
       "       [0.54637148],\n",
       "       [0.7104026 ],\n",
       "       [0.70459014],\n",
       "       [0.58244294],\n",
       "       [0.69510215],\n",
       "       [0.55568852],\n",
       "       [0.66014189],\n",
       "       [0.67715189],\n",
       "       [0.75997949],\n",
       "       [0.45850073],\n",
       "       [0.50064108],\n",
       "       [0.60509445],\n",
       "       [0.63783229],\n",
       "       [0.78528079],\n",
       "       [0.71407813],\n",
       "       [0.69706813],\n",
       "       [0.72065989],\n",
       "       [0.63791777],\n",
       "       [0.72732712],\n",
       "       [0.69296521],\n",
       "       [0.82725019],\n",
       "       [0.47234806],\n",
       "       [0.51525771],\n",
       "       [0.6003932 ],\n",
       "       [0.67920335],\n",
       "       [0.74886742],\n",
       "       [0.75844089],\n",
       "       [0.67817762],\n",
       "       [0.67954526],\n",
       "       [0.66646722],\n",
       "       [0.75100436],\n",
       "       [0.63586631],\n",
       "       [0.8786221 ],\n",
       "       [0.45892811],\n",
       "       [0.51551415],\n",
       "       [0.65740662],\n",
       "       [0.69031541],\n",
       "       [0.72459185],\n",
       "       [0.84391828],\n",
       "       [0.75544918],\n",
       "       [0.70031627],\n",
       "       [0.76852722],\n",
       "       [0.76519361],\n",
       "       [0.72442089],\n",
       "       [0.95324387],\n",
       "       [0.48012651],\n",
       "       [0.62313018],\n",
       "       [0.7757928 ],\n",
       "       [0.71706984],\n",
       "       [0.78699034],\n",
       "       [0.91033422],\n",
       "       [0.67689546],\n",
       "       [0.8264809 ],\n",
       "       [0.78989657],\n",
       "       [0.75852637],\n",
       "       [0.85349175],\n",
       "       [0.97358749],\n",
       "       [0.51389008],\n",
       "       [0.63432772],\n",
       "       [0.80776135],\n",
       "       [0.72313873],\n",
       "       [0.89870929],\n",
       "       [1.        ],\n",
       "       [0.71672793],\n",
       "       [0.88648602],\n",
       "       [0.75869732],\n",
       "       [0.82742115],\n",
       "       [0.87443371],\n",
       "       [0.96025301],\n",
       "       [0.5584238 ]])"
      ]
     },
     "execution_count": 33,
     "metadata": {},
     "output_type": "execute_result"
    }
   ],
   "source": [
    "scaled_train"
   ]
  },
  {
   "cell_type": "code",
   "execution_count": 35,
   "metadata": {},
   "outputs": [
    {
     "data": {
      "text/plain": [
       "array([[0.63116506],\n",
       "       [0.82502778],\n",
       "       [0.75972305],\n",
       "       [0.94939738],\n",
       "       [0.98743482],\n",
       "       [0.82135225],\n",
       "       [0.95956919],\n",
       "       [0.80049577],\n",
       "       [0.93025045],\n",
       "       [0.95247457],\n",
       "       [1.0661595 ],\n",
       "       [0.65706471]])"
      ]
     },
     "execution_count": 35,
     "metadata": {},
     "output_type": "execute_result"
    }
   ],
   "source": [
    "scaled_test"
   ]
  },
  {
   "cell_type": "code",
   "execution_count": 70,
   "metadata": {},
   "outputs": [],
   "source": [
    "n_input = 12\n",
    "n_features = 1\n",
    "train_generator = TimeseriesGenerator(scaled_train,scaled_train,length = n_input,batch_size=1)\n",
    "\n"
   ]
  },
  {
   "cell_type": "code",
   "execution_count": 71,
   "metadata": {},
   "outputs": [
    {
     "data": {
      "text/plain": [
       "313"
      ]
     },
     "execution_count": 71,
     "metadata": {},
     "output_type": "execute_result"
    }
   ],
   "source": [
    "len(scaled_train)"
   ]
  },
  {
   "cell_type": "code",
   "execution_count": 84,
   "metadata": {},
   "outputs": [
    {
     "data": {
      "text/plain": [
       "301"
      ]
     },
     "execution_count": 84,
     "metadata": {},
     "output_type": "execute_result"
    }
   ],
   "source": [
    "len(train_generator)"
   ]
  },
  {
   "cell_type": "code",
   "execution_count": 85,
   "metadata": {},
   "outputs": [
    {
     "data": {
      "text/plain": [
       "(array([[[0.03658432],\n",
       "         [0.03649885],\n",
       "         [0.08299855],\n",
       "         [0.13103684],\n",
       "         [0.1017181 ],\n",
       "         [0.12804513],\n",
       "         [0.12266006],\n",
       "         [0.09453799],\n",
       "         [0.09359774],\n",
       "         [0.10496624],\n",
       "         [0.10334217],\n",
       "         [0.16283443]]]),\n",
       " array([[0.]]))"
      ]
     },
     "execution_count": 85,
     "metadata": {},
     "output_type": "execute_result"
    }
   ],
   "source": [
    "train_generator[0]"
   ]
  },
  {
   "cell_type": "code",
   "execution_count": 86,
   "metadata": {},
   "outputs": [
    {
     "data": {
      "text/plain": [
       "tuple"
      ]
     },
     "execution_count": 86,
     "metadata": {},
     "output_type": "execute_result"
    }
   ],
   "source": [
    "type(train_generator[0])"
   ]
  },
  {
   "cell_type": "code",
   "execution_count": 87,
   "metadata": {},
   "outputs": [],
   "source": [
    "x,y = train_generator[0]"
   ]
  },
  {
   "cell_type": "code",
   "execution_count": 88,
   "metadata": {},
   "outputs": [
    {
     "data": {
      "text/plain": [
       "array([[[0.03658432],\n",
       "        [0.03649885],\n",
       "        [0.08299855],\n",
       "        [0.13103684],\n",
       "        [0.1017181 ],\n",
       "        [0.12804513],\n",
       "        [0.12266006],\n",
       "        [0.09453799],\n",
       "        [0.09359774],\n",
       "        [0.10496624],\n",
       "        [0.10334217],\n",
       "        [0.16283443]]])"
      ]
     },
     "execution_count": 88,
     "metadata": {},
     "output_type": "execute_result"
    }
   ],
   "source": [
    "x"
   ]
  },
  {
   "cell_type": "code",
   "execution_count": 77,
   "metadata": {},
   "outputs": [
    {
     "data": {
      "text/plain": [
       "array([[0.]])"
      ]
     },
     "execution_count": 77,
     "metadata": {},
     "output_type": "execute_result"
    }
   ],
   "source": [
    "y"
   ]
  },
  {
   "cell_type": "code",
   "execution_count": 78,
   "metadata": {},
   "outputs": [
    {
     "data": {
      "text/plain": [
       "array([[0.03658432],\n",
       "       [0.03649885],\n",
       "       [0.08299855],\n",
       "       [0.13103684],\n",
       "       [0.1017181 ]])"
      ]
     },
     "execution_count": 78,
     "metadata": {},
     "output_type": "execute_result"
    }
   ],
   "source": [
    "scaled_train[:5]"
   ]
  },
  {
   "cell_type": "code",
   "execution_count": 79,
   "metadata": {},
   "outputs": [
    {
     "data": {
      "text/plain": [
       "(1, 12, 1)"
      ]
     },
     "execution_count": 79,
     "metadata": {},
     "output_type": "execute_result"
    }
   ],
   "source": [
    "x.shape"
   ]
  },
  {
   "cell_type": "code",
   "execution_count": 80,
   "metadata": {},
   "outputs": [
    {
     "data": {
      "text/plain": [
       "array([[[0.03658432],\n",
       "        [0.03649885],\n",
       "        [0.08299855],\n",
       "        [0.13103684],\n",
       "        [0.1017181 ],\n",
       "        [0.12804513],\n",
       "        [0.12266006],\n",
       "        [0.09453799],\n",
       "        [0.09359774],\n",
       "        [0.10496624],\n",
       "        [0.10334217],\n",
       "        [0.16283443]]])"
      ]
     },
     "execution_count": 80,
     "metadata": {},
     "output_type": "execute_result"
    }
   ],
   "source": [
    "x"
   ]
  },
  {
   "cell_type": "code",
   "execution_count": 82,
   "metadata": {},
   "outputs": [],
   "source": [
    "model = Sequential()\n",
    "model.add(LSTM(150,activation = 'relu',input_shape = (n_input,n_features)))\n",
    "model.add(Dense(1))\n",
    "model.compile(optimizer = 'adam',loss = 'mse')\n"
   ]
  },
  {
   "cell_type": "code",
   "execution_count": 83,
   "metadata": {},
   "outputs": [
    {
     "name": "stdout",
     "output_type": "stream",
     "text": [
      "Model: \"sequential_1\"\n",
      "_________________________________________________________________\n",
      "Layer (type)                 Output Shape              Param #   \n",
      "=================================================================\n",
      "lstm_1 (LSTM)                (None, 150)               91200     \n",
      "_________________________________________________________________\n",
      "dense_1 (Dense)              (None, 1)                 151       \n",
      "=================================================================\n",
      "Total params: 91,351\n",
      "Trainable params: 91,351\n",
      "Non-trainable params: 0\n",
      "_________________________________________________________________\n"
     ]
    }
   ],
   "source": [
    "model.summary()"
   ]
  },
  {
   "cell_type": "code",
   "execution_count": 89,
   "metadata": {},
   "outputs": [
    {
     "name": "stdout",
     "output_type": "stream",
     "text": [
      "WARNING:tensorflow:From <ipython-input-89-798965face1a>:1: Model.fit_generator (from tensorflow.python.keras.engine.training) is deprecated and will be removed in a future version.\n",
      "Instructions for updating:\n",
      "Please use Model.fit, which supports generators.\n",
      "Epoch 1/20\n",
      "301/301 [==============================] - 2s 7ms/step - loss: 0.0142\n",
      "Epoch 2/20\n",
      "301/301 [==============================] - 2s 7ms/step - loss: 0.0089\n",
      "Epoch 3/20\n",
      "301/301 [==============================] - 2s 7ms/step - loss: 0.0080\n",
      "Epoch 4/20\n",
      "301/301 [==============================] - 2s 7ms/step - loss: 0.0080\n",
      "Epoch 5/20\n",
      "301/301 [==============================] - 2s 7ms/step - loss: 0.0086\n",
      "Epoch 6/20\n",
      "301/301 [==============================] - 2s 7ms/step - loss: 0.0053\n",
      "Epoch 7/20\n",
      "301/301 [==============================] - 2s 7ms/step - loss: 0.0043\n",
      "Epoch 8/20\n",
      "301/301 [==============================] - 2s 7ms/step - loss: 0.0033\n",
      "Epoch 9/20\n",
      "301/301 [==============================] - 2s 7ms/step - loss: 0.0032\n",
      "Epoch 10/20\n",
      "301/301 [==============================] - 2s 7ms/step - loss: 0.0024\n",
      "Epoch 11/20\n",
      "301/301 [==============================] - 2s 7ms/step - loss: 0.0028A: 0s - loss: \n",
      "Epoch 12/20\n",
      "301/301 [==============================] - 2s 7ms/step - loss: 0.0022\n",
      "Epoch 13/20\n",
      "301/301 [==============================] - 2s 6ms/step - loss: 0.0024\n",
      "Epoch 14/20\n",
      "301/301 [==============================] - 2s 7ms/step - loss: 0.0018\n",
      "Epoch 15/20\n",
      "301/301 [==============================] - 2s 7ms/step - loss: 0.0016\n",
      "Epoch 16/20\n",
      "301/301 [==============================] - 2s 7ms/step - loss: 0.0019\n",
      "Epoch 17/20\n",
      "301/301 [==============================] - 2s 8ms/step - loss: 0.0015\n",
      "Epoch 18/20\n",
      "301/301 [==============================] - 2s 8ms/step - loss: 0.0020\n",
      "Epoch 19/20\n",
      "301/301 [==============================] - 2s 7ms/step - loss: 0.0017\n",
      "Epoch 20/20\n",
      "301/301 [==============================] - 2s 7ms/step - loss: 0.0015\n"
     ]
    },
    {
     "data": {
      "text/plain": [
       "<tensorflow.python.keras.callbacks.History at 0x1e98285e3d0>"
      ]
     },
     "execution_count": 89,
     "metadata": {},
     "output_type": "execute_result"
    }
   ],
   "source": [
    "model.fit_generator(train_generator,epochs = 20)"
   ]
  },
  {
   "cell_type": "code",
   "execution_count": 91,
   "metadata": {},
   "outputs": [],
   "source": [
    "myloss = model.history.history['loss']"
   ]
  },
  {
   "cell_type": "code",
   "execution_count": 92,
   "metadata": {},
   "outputs": [
    {
     "data": {
      "text/plain": [
       "[0.014205650426447392,\n",
       " 0.008936219848692417,\n",
       " 0.008045007474720478,\n",
       " 0.007960998453199863,\n",
       " 0.008562464267015457,\n",
       " 0.005331816151738167,\n",
       " 0.004313112702220678,\n",
       " 0.0033208364620804787,\n",
       " 0.0031500759068876505,\n",
       " 0.0023616936523467302,\n",
       " 0.0028149490244686604,\n",
       " 0.002210215898230672,\n",
       " 0.002350396942347288,\n",
       " 0.001823077560402453,\n",
       " 0.0015786699950695038,\n",
       " 0.0019393732072785497,\n",
       " 0.0015337272780016065,\n",
       " 0.00204442348331213,\n",
       " 0.0017343999352306128,\n",
       " 0.0015352066839113832]"
      ]
     },
     "execution_count": 92,
     "metadata": {},
     "output_type": "execute_result"
    }
   ],
   "source": [
    "myloss"
   ]
  },
  {
   "cell_type": "code",
   "execution_count": 96,
   "metadata": {},
   "outputs": [
    {
     "data": {
      "text/plain": [
       "[<matplotlib.lines.Line2D at 0x1e987399c10>]"
      ]
     },
     "execution_count": 96,
     "metadata": {},
     "output_type": "execute_result"
    },
    {
     "data": {
      "image/png": "[encoded data removed]",
      "text/plain": [
       "<Figure size 432x288 with 1 Axes>"
      ]
     },
     "metadata": {
      "needs_background": "light"
     },
     "output_type": "display_data"
    }
   ],
   "source": [
    "plt.plot(range(len(myloss)),myloss)\n"
   ]
  },
  {
   "cell_type": "code",
   "execution_count": 97,
   "metadata": {},
   "outputs": [],
   "source": [
    "first_eval_batch = scaled_train[-12:]\n"
   ]
  },
  {
   "cell_type": "code",
   "execution_count": 98,
   "metadata": {},
   "outputs": [
    {
     "data": {
      "text/plain": [
       "313"
      ]
     },
     "execution_count": 98,
     "metadata": {},
     "output_type": "execute_result"
    }
   ],
   "source": [
    "len(scaled_train)"
   ]
  },
  {
   "cell_type": "code",
   "execution_count": 99,
   "metadata": {},
   "outputs": [
    {
     "data": {
      "text/plain": [
       "12"
      ]
     },
     "execution_count": 99,
     "metadata": {},
     "output_type": "execute_result"
    }
   ],
   "source": [
    "len(first_eval_batch)"
   ]
  },
  {
   "cell_type": "code",
   "execution_count": 100,
   "metadata": {},
   "outputs": [
    {
     "data": {
      "text/plain": [
       "(12, 1)"
      ]
     },
     "execution_count": 100,
     "metadata": {},
     "output_type": "execute_result"
    }
   ],
   "source": [
    "first_eval_batch.shape"
   ]
  },
  {
   "cell_type": "code",
   "execution_count": 101,
   "metadata": {},
   "outputs": [
    {
     "data": {
      "text/plain": [
       "array([[0.63432772],\n",
       "       [0.80776135],\n",
       "       [0.72313873],\n",
       "       [0.89870929],\n",
       "       [1.        ],\n",
       "       [0.71672793],\n",
       "       [0.88648602],\n",
       "       [0.75869732],\n",
       "       [0.82742115],\n",
       "       [0.87443371],\n",
       "       [0.96025301],\n",
       "       [0.5584238 ]])"
      ]
     },
     "execution_count": 101,
     "metadata": {},
     "output_type": "execute_result"
    }
   ],
   "source": [
    "first_eval_batch"
   ]
  },
  {
   "cell_type": "code",
   "execution_count": 102,
   "metadata": {},
   "outputs": [],
   "source": [
    "first_eval_batch = first_eval_batch.reshape((1,n_input,n_features))"
   ]
  },
  {
   "cell_type": "code",
   "execution_count": 103,
   "metadata": {},
   "outputs": [
    {
     "data": {
      "text/plain": [
       "array([[0.73382676]], dtype=float32)"
      ]
     },
     "execution_count": 103,
     "metadata": {},
     "output_type": "execute_result"
    }
   ],
   "source": [
    "model.predict(first_eval_batch)"
   ]
  },
  {
   "cell_type": "code",
   "execution_count": 104,
   "metadata": {},
   "outputs": [
    {
     "data": {
      "text/plain": [
       "array([[0.03658432],\n",
       "       [0.03649885],\n",
       "       [0.08299855],\n",
       "       [0.13103684],\n",
       "       [0.1017181 ],\n",
       "       [0.12804513],\n",
       "       [0.12266006],\n",
       "       [0.09453799],\n",
       "       [0.09359774],\n",
       "       [0.10496624],\n",
       "       [0.10334217],\n",
       "       [0.16283443],\n",
       "       [0.        ],\n",
       "       [0.0196598 ],\n",
       "       [0.09650397],\n",
       "       [0.11505257],\n",
       "       [0.10906915],\n",
       "       [0.14231986],\n",
       "       [0.12197624],\n",
       "       [0.12189076],\n",
       "       [0.11394136],\n",
       "       [0.10300026],\n",
       "       [0.12556629],\n",
       "       [0.16608257],\n",
       "       [0.00376101],\n",
       "       [0.02957518],\n",
       "       [0.12069408],\n",
       "       [0.10513719],\n",
       "       [0.12214719],\n",
       "       [0.16702282],\n",
       "       [0.11052227],\n",
       "       [0.14428584],\n",
       "       [0.11479614],\n",
       "       [0.10402599],\n",
       "       [0.14984187],\n",
       "       [0.16582614],\n",
       "       [0.02897684],\n",
       "       [0.03872126],\n",
       "       [0.10582101],\n",
       "       [0.08231473],\n",
       "       [0.14394393],\n",
       "       [0.16608257],\n",
       "       [0.10188905],\n",
       "       [0.16830498],\n",
       "       [0.10291478],\n",
       "       [0.13018207],\n",
       "       [0.15556885],\n",
       "       [0.15343192],\n",
       "       [0.0570989 ],\n",
       "       [0.08137448],\n",
       "       [0.10522267],\n",
       "       [0.1357381 ],\n",
       "       [0.18702453],\n",
       "       [0.15428669],\n",
       "       [0.16326182],\n",
       "       [0.17360458],\n",
       "       [0.11402684],\n",
       "       [0.16933071],\n",
       "       [0.15548337],\n",
       "       [0.17659629],\n",
       "       [0.06214206],\n",
       "       [0.06786905],\n",
       "       [0.12163433],\n",
       "       [0.13710574],\n",
       "       [0.18625524],\n",
       "       [0.17317719],\n",
       "       [0.18805026],\n",
       "       [0.17121121],\n",
       "       [0.16574066],\n",
       "       [0.19753825],\n",
       "       [0.1538593 ],\n",
       "       [0.25079067],\n",
       "       [0.0653902 ],\n",
       "       [0.08445166],\n",
       "       [0.15958629],\n",
       "       [0.17599795],\n",
       "       [0.18856313],\n",
       "       [0.20651338],\n",
       "       [0.20548765],\n",
       "       [0.17745106],\n",
       "       [0.21232584],\n",
       "       [0.2181383 ],\n",
       "       [0.19788016],\n",
       "       [0.27822891],\n",
       "       [0.08556287],\n",
       "       [0.12001026],\n",
       "       [0.20924865],\n",
       "       [0.20959056],\n",
       "       [0.21848021],\n",
       "       [0.2688264 ],\n",
       "       [0.22138644],\n",
       "       [0.24429438],\n",
       "       [0.23908026],\n",
       "       [0.24087529],\n",
       "       [0.2691683 ],\n",
       "       [0.31968544],\n",
       "       [0.1035986 ],\n",
       "       [0.16420207],\n",
       "       [0.25446619],\n",
       "       [0.1984785 ],\n",
       "       [0.29096504],\n",
       "       [0.31130866],\n",
       "       [0.2226686 ],\n",
       "       [0.30763313],\n",
       "       [0.24412343],\n",
       "       [0.28130609],\n",
       "       [0.29823062],\n",
       "       [0.31173605],\n",
       "       [0.17531413],\n",
       "       [0.1867681 ],\n",
       "       [0.24463629],\n",
       "       [0.24472177],\n",
       "       [0.32207881],\n",
       "       [0.31079579],\n",
       "       [0.28575092],\n",
       "       [0.32558338],\n",
       "       [0.21745448],\n",
       "       [0.30036755],\n",
       "       [0.32122404],\n",
       "       [0.3546457 ],\n",
       "       [0.17830584],\n",
       "       [0.20608599],\n",
       "       [0.28258826],\n",
       "       [0.298658  ],\n",
       "       [0.35772288],\n",
       "       [0.31883067],\n",
       "       [0.33566972],\n",
       "       [0.34524318],\n",
       "       [0.26643303],\n",
       "       [0.33276348],\n",
       "       [0.31498419],\n",
       "       [0.42260022],\n",
       "       [0.19617061],\n",
       "       [0.22036071],\n",
       "       [0.28917001],\n",
       "       [0.31712112],\n",
       "       [0.35156851],\n",
       "       [0.35062826],\n",
       "       [0.38781092],\n",
       "       [0.36199675],\n",
       "       [0.30797504],\n",
       "       [0.39276861],\n",
       "       [0.32583982],\n",
       "       [0.47089495],\n",
       "       [0.22207026],\n",
       "       [0.24506368],\n",
       "       [0.34310625],\n",
       "       [0.34729464],\n",
       "       [0.36772374],\n",
       "       [0.41772801],\n",
       "       [0.36396273],\n",
       "       [0.37310881],\n",
       "       [0.36139841],\n",
       "       [0.36216771],\n",
       "       [0.40174374],\n",
       "       [0.51517224],\n",
       "       [0.21591589],\n",
       "       [0.27404052],\n",
       "       [0.40105992],\n",
       "       [0.36165484],\n",
       "       [0.44533721],\n",
       "       [0.48944354],\n",
       "       [0.36934781],\n",
       "       [0.46713394],\n",
       "       [0.40259851],\n",
       "       [0.39994871],\n",
       "       [0.44585007],\n",
       "       [0.50183776],\n",
       "       [0.25942388],\n",
       "       [0.30421404],\n",
       "       [0.4181554 ],\n",
       "       [0.36789469],\n",
       "       [0.4967946 ],\n",
       "       [0.53816566],\n",
       "       [0.40695786],\n",
       "       [0.52354902],\n",
       "       [0.42789982],\n",
       "       [0.47944269],\n",
       "       [0.52115565],\n",
       "       [0.55679973],\n",
       "       [0.3073767 ],\n",
       "       [0.31729208],\n",
       "       [0.44140525],\n",
       "       [0.41003505],\n",
       "       [0.55893666],\n",
       "       [0.55158561],\n",
       "       [0.47670741],\n",
       "       [0.55662877],\n",
       "       [0.43525088],\n",
       "       [0.56568938],\n",
       "       [0.54355073],\n",
       "       [0.60124797],\n",
       "       [0.34720916],\n",
       "       [0.38054535],\n",
       "       [0.4559364 ],\n",
       "       [0.50123942],\n",
       "       [0.5780836 ],\n",
       "       [0.59372596],\n",
       "       [0.55748355],\n",
       "       [0.54226857],\n",
       "       [0.52944696],\n",
       "       [0.59124712],\n",
       "       [0.48952902],\n",
       "       [0.66740747],\n",
       "       [0.36199675],\n",
       "       [0.3886657 ],\n",
       "       [0.4835456 ],\n",
       "       [0.52406189],\n",
       "       [0.54175571],\n",
       "       [0.60996666],\n",
       "       [0.55355159],\n",
       "       [0.50363279],\n",
       "       [0.5334644 ],\n",
       "       [0.51662535],\n",
       "       [0.5058552 ],\n",
       "       [0.66774938],\n",
       "       [0.30147876],\n",
       "       [0.38037439],\n",
       "       [0.55081631],\n",
       "       [0.54645696],\n",
       "       [0.54021711],\n",
       "       [0.64287546],\n",
       "       [0.51679631],\n",
       "       [0.53354988],\n",
       "       [0.54611505],\n",
       "       [0.54551671],\n",
       "       [0.58423797],\n",
       "       [0.72006154],\n",
       "       [0.3307975 ],\n",
       "       [0.42593384],\n",
       "       [0.58133174],\n",
       "       [0.5342337 ],\n",
       "       [0.59287119],\n",
       "       [0.71057355],\n",
       "       [0.51927515],\n",
       "       [0.63578084],\n",
       "       [0.60295752],\n",
       "       [0.56252671],\n",
       "       [0.62372852],\n",
       "       [0.72245491],\n",
       "       [0.38080178],\n",
       "       [0.47952816],\n",
       "       [0.57081802],\n",
       "       [0.54637148],\n",
       "       [0.7104026 ],\n",
       "       [0.70459014],\n",
       "       [0.58244294],\n",
       "       [0.69510215],\n",
       "       [0.55568852],\n",
       "       [0.66014189],\n",
       "       [0.67715189],\n",
       "       [0.75997949],\n",
       "       [0.45850073],\n",
       "       [0.50064108],\n",
       "       [0.60509445],\n",
       "       [0.63783229],\n",
       "       [0.78528079],\n",
       "       [0.71407813],\n",
       "       [0.69706813],\n",
       "       [0.72065989],\n",
       "       [0.63791777],\n",
       "       [0.72732712],\n",
       "       [0.69296521],\n",
       "       [0.82725019],\n",
       "       [0.47234806],\n",
       "       [0.51525771],\n",
       "       [0.6003932 ],\n",
       "       [0.67920335],\n",
       "       [0.74886742],\n",
       "       [0.75844089],\n",
       "       [0.67817762],\n",
       "       [0.67954526],\n",
       "       [0.66646722],\n",
       "       [0.75100436],\n",
       "       [0.63586631],\n",
       "       [0.8786221 ],\n",
       "       [0.45892811],\n",
       "       [0.51551415],\n",
       "       [0.65740662],\n",
       "       [0.69031541],\n",
       "       [0.72459185],\n",
       "       [0.84391828],\n",
       "       [0.75544918],\n",
       "       [0.70031627],\n",
       "       [0.76852722],\n",
       "       [0.76519361],\n",
       "       [0.72442089],\n",
       "       [0.95324387],\n",
       "       [0.48012651],\n",
       "       [0.62313018],\n",
       "       [0.7757928 ],\n",
       "       [0.71706984],\n",
       "       [0.78699034],\n",
       "       [0.91033422],\n",
       "       [0.67689546],\n",
       "       [0.8264809 ],\n",
       "       [0.78989657],\n",
       "       [0.75852637],\n",
       "       [0.85349175],\n",
       "       [0.97358749],\n",
       "       [0.51389008],\n",
       "       [0.63432772],\n",
       "       [0.80776135],\n",
       "       [0.72313873],\n",
       "       [0.89870929],\n",
       "       [1.        ],\n",
       "       [0.71672793],\n",
       "       [0.88648602],\n",
       "       [0.75869732],\n",
       "       [0.82742115],\n",
       "       [0.87443371],\n",
       "       [0.96025301],\n",
       "       [0.5584238 ]])"
      ]
     },
     "execution_count": 104,
     "metadata": {},
     "output_type": "execute_result"
    }
   ],
   "source": [
    "scaled_train"
   ]
  },
  {
   "cell_type": "code",
   "execution_count": 106,
   "metadata": {},
   "outputs": [],
   "source": [
    "test_predictions = []\n",
    "\n",
    "first_eval_batch = scaled_train[-n_input:]\n",
    "current_batch = first_eval_batch.reshape((1,n_input,n_features))\n",
    "for i in range(len(test)):\n",
    "    current_pred = model.predict(current_batch)[0]\n",
    "    test_predictions.append(current_pred)\n",
    "    current_batch = np.append(current_batch[:,1:,:],[[current_pred]],axis = 1)\n",
    "    \n",
    "    "
   ]
  },
  {
   "cell_type": "code",
   "execution_count": 107,
   "metadata": {},
   "outputs": [
    {
     "data": {
      "text/plain": [
       "[array([0.73382676], dtype=float32),\n",
       " array([0.86346245], dtype=float32),\n",
       " array([0.80794317], dtype=float32),\n",
       " array([0.9719726], dtype=float32),\n",
       " array([1.045478], dtype=float32),\n",
       " array([0.7983101], dtype=float32),\n",
       " array([0.9478618], dtype=float32),\n",
       " array([0.8251128], dtype=float32),\n",
       " array([0.89878786], dtype=float32),\n",
       " array([0.94048727], dtype=float32),\n",
       " array([1.009703], dtype=float32),\n",
       " array([0.664623], dtype=float32)]"
      ]
     },
     "execution_count": 107,
     "metadata": {},
     "output_type": "execute_result"
    }
   ],
   "source": [
    "test_predictions"
   ]
  },
  {
   "cell_type": "code",
   "execution_count": 108,
   "metadata": {},
   "outputs": [],
   "source": [
    "true_preds = scaler.inverse_transform(test_predictions)"
   ]
  },
  {
   "cell_type": "code",
   "execution_count": 109,
   "metadata": {},
   "outputs": [
    {
     "data": {
      "text/plain": [
       "array([[11616.03922403],\n",
       "       [13132.64718056],\n",
       "       [12483.12709087],\n",
       "       [14402.10726869],\n",
       "       [15262.04696214],\n",
       "       [12370.42987198],\n",
       "       [14120.0350889 ],\n",
       "       [12683.99487734],\n",
       "       [13545.91912854],\n",
       "       [14033.7605201 ],\n",
       "       [14843.5158664 ],\n",
       "       [10806.42473531]])"
      ]
     },
     "execution_count": 109,
     "metadata": {},
     "output_type": "execute_result"
    }
   ],
   "source": [
    "true_preds"
   ]
  },
  {
   "cell_type": "code",
   "execution_count": 111,
   "metadata": {},
   "outputs": [
    {
     "name": "stderr",
     "output_type": "stream",
     "text": [
      "<ipython-input-111-fb8da934d0a0>:1: SettingWithCopyWarning: \n",
      "A value is trying to be set on a copy of a slice from a DataFrame.\n",
      "Try using .loc[row_indexer,col_indexer] = value instead\n",
      "\n",
      "See the caveats in the documentation: https://pandas.pydata.org/pandas-docs/stable/user_guide/indexing.html#returning-a-view-versus-a-copy\n",
      "  test['predictions'] = true_preds\n"
     ]
    }
   ],
   "source": [
    "test['predictions'] = true_preds"
   ]
  },
  {
   "cell_type": "code",
   "execution_count": 112,
   "metadata": {},
   "outputs": [
    {
     "data": {
      "text/html": [
       "<div>\n",
       "<style scoped>\n",
       "    .dataframe tbody tr th:only-of-type {\n",
       "        vertical-align: middle;\n",
       "    }\n",
       "\n",
       "    .dataframe tbody tr th {\n",
       "        vertical-align: top;\n",
       "    }\n",
       "\n",
       "    .dataframe thead th {\n",
       "        text-align: right;\n",
       "    }\n",
       "</style>\n",
       "<table border=\"1\" class=\"dataframe\">\n",
       "  <thead>\n",
       "    <tr style=\"text-align: right;\">\n",
       "      <th></th>\n",
       "      <th>Sales</th>\n",
       "      <th>predictions</th>\n",
       "    </tr>\n",
       "    <tr>\n",
       "      <th>DATE</th>\n",
       "      <th></th>\n",
       "      <th></th>\n",
       "    </tr>\n",
       "  </thead>\n",
       "  <tbody>\n",
       "    <tr>\n",
       "      <th>2018-02-01</th>\n",
       "      <td>10415</td>\n",
       "      <td>11616.039224</td>\n",
       "    </tr>\n",
       "    <tr>\n",
       "      <th>2018-03-01</th>\n",
       "      <td>12683</td>\n",
       "      <td>13132.647181</td>\n",
       "    </tr>\n",
       "    <tr>\n",
       "      <th>2018-04-01</th>\n",
       "      <td>11919</td>\n",
       "      <td>12483.127091</td>\n",
       "    </tr>\n",
       "    <tr>\n",
       "      <th>2018-05-01</th>\n",
       "      <td>14138</td>\n",
       "      <td>14402.107269</td>\n",
       "    </tr>\n",
       "    <tr>\n",
       "      <th>2018-06-01</th>\n",
       "      <td>14583</td>\n",
       "      <td>15262.046962</td>\n",
       "    </tr>\n",
       "    <tr>\n",
       "      <th>2018-07-01</th>\n",
       "      <td>12640</td>\n",
       "      <td>12370.429872</td>\n",
       "    </tr>\n",
       "    <tr>\n",
       "      <th>2018-08-01</th>\n",
       "      <td>14257</td>\n",
       "      <td>14120.035089</td>\n",
       "    </tr>\n",
       "    <tr>\n",
       "      <th>2018-09-01</th>\n",
       "      <td>12396</td>\n",
       "      <td>12683.994877</td>\n",
       "    </tr>\n",
       "    <tr>\n",
       "      <th>2018-10-01</th>\n",
       "      <td>13914</td>\n",
       "      <td>13545.919129</td>\n",
       "    </tr>\n",
       "    <tr>\n",
       "      <th>2018-11-01</th>\n",
       "      <td>14174</td>\n",
       "      <td>14033.760520</td>\n",
       "    </tr>\n",
       "    <tr>\n",
       "      <th>2018-12-01</th>\n",
       "      <td>15504</td>\n",
       "      <td>14843.515866</td>\n",
       "    </tr>\n",
       "    <tr>\n",
       "      <th>2019-01-01</th>\n",
       "      <td>10718</td>\n",
       "      <td>10806.424735</td>\n",
       "    </tr>\n",
       "  </tbody>\n",
       "</table>\n",
       "</div>"
      ],
      "text/plain": [
       "            Sales   predictions\n",
       "DATE                           \n",
       "2018-02-01  10415  11616.039224\n",
       "2018-03-01  12683  13132.647181\n",
       "2018-04-01  11919  12483.127091\n",
       "2018-05-01  14138  14402.107269\n",
       "2018-06-01  14583  15262.046962\n",
       "2018-07-01  12640  12370.429872\n",
       "2018-08-01  14257  14120.035089\n",
       "2018-09-01  12396  12683.994877\n",
       "2018-10-01  13914  13545.919129\n",
       "2018-11-01  14174  14033.760520\n",
       "2018-12-01  15504  14843.515866\n",
       "2019-01-01  10718  10806.424735"
      ]
     },
     "execution_count": 112,
     "metadata": {},
     "output_type": "execute_result"
    }
   ],
   "source": [
    "test"
   ]
  },
  {
   "cell_type": "code",
   "execution_count": 113,
   "metadata": {},
   "outputs": [],
   "source": [
    "model.save('myfirstrnn.h5')"
   ]
  },
  {
   "cell_type": "code",
   "execution_count": 115,
   "metadata": {},
   "outputs": [],
   "source": [
    "from keras.models import load_model"
   ]
  },
  {
   "cell_type": "code",
   "execution_count": null,
   "metadata": {},
   "outputs": [],
   "source": []
  }
 ],
 "metadata": {
  "kernelspec": {
   "display_name": "Python 3",
   "language": "python",
   "name": "python3"
  },
  "language_info": {
   "codemirror_mode": {
    "name": "ipython",
    "version": 3
   },
   "file_extension": ".py",
   "mimetype": "text/x-python",
   "name": "python",
   "nbconvert_exporter": "python",
   "pygments_lexer": "ipython3",
   "version": "3.8.5"
  }
 },
 "nbformat": 4,
 "nbformat_minor": 4
}
